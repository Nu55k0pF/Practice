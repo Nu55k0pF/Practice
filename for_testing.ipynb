{
 "cells": [
  {
   "cell_type": "code",
   "execution_count": 2,
   "metadata": {},
   "outputs": [
    {
     "name": "stdout",
     "output_type": "stream",
     "text": [
      "test ['Q', 'e', 's', 't']\n"
     ]
    }
   ],
   "source": [
    "var = \"test\"\n",
    "\n",
    "def change (string: str) -> str:\n",
    "    string = list(string)\n",
    "    string[0] = \"Q\"\n",
    "    return string\n",
    "\n",
    "var_2 = change(var)\n",
    "\n",
    "print(var, var_2)"
   ]
  }
 ],
 "metadata": {
  "kernelspec": {
   "display_name": "Python 3",
   "language": "python",
   "name": "python3"
  },
  "language_info": {
   "codemirror_mode": {
    "name": "ipython",
    "version": 3
   },
   "file_extension": ".py",
   "mimetype": "text/x-python",
   "name": "python",
   "nbconvert_exporter": "python",
   "pygments_lexer": "ipython3",
   "version": "3.10.10"
  },
  "orig_nbformat": 4,
  "vscode": {
   "interpreter": {
    "hash": "2e355cc7f06069fa62be67f1e258ed04b33f01cf0b71a00a67ca373541ba5f15"
   }
  }
 },
 "nbformat": 4,
 "nbformat_minor": 2
}
